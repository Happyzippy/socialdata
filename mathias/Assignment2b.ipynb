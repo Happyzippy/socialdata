{
 "cells": [
  {
   "cell_type": "code",
   "execution_count": 1,
   "metadata": {
    "collapsed": true
   },
   "outputs": [],
   "source": [
    "#Code extracting the appropriate data for assignment 2b from the dataset.\n",
    "import pandas as pd\n",
    "from collections import Counter\n",
    "\n",
    "data = pd.read_csv('C:\\Users\\Mathias\\Documents\\SFPD_Incidents_-_from_1_January_2003.csv', sep=',')\n",
    "\n",
    "dists = data[\"PdDistrict\"].unique()\n",
    "\n",
    "data.Date = data.Date.map(lambda t: int(t.split('/')[2])) #Remake date row\n",
    "\n",
    "rows = []\n",
    "df = pd.DataFrame()\n",
    "for dist in dists:\n",
    "    if(dist == dist): #Check for nan\n",
    "        distData = data.loc[data['PdDistrict'] == dist]\n",
    "        for year in [2003,2015]:\n",
    "            row = {} #Clear row\n",
    "            \n",
    "            yearData = distData.loc[distData['Date'] == year] #Extract data within year range\n",
    "    \n",
    "            crimeCounter = Counter(yearData[\"Category\"])\n",
    "        \n",
    "            row[\"District\"] = dist\n",
    "            row[\"Year\"] = year\n",
    "            row[\"VehicleTheft\"] = crimeCounter[\"VEHICLE THEFT\"]\n",
    "            row[\"Prostitution\"] = crimeCounter[\"PROSTITUTION\"]\n",
    "            row[\"Total\"] = sum(crimeCounter.values())\n",
    "            \n",
    "            rows.append(row)\n",
    "\n",
    "df = pd.DataFrame(rows)\n",
    "\n",
    "#print df\n",
    "\n",
    "df.to_csv('Assignment2b_data.csv')"
   ]
  },
  {
   "cell_type": "markdown",
   "metadata": {},
   "source": [
    "**Explain in your own words why you think I want the axes to be the same for both years? (Even though you know how to make axes adapt to the data values.)**\n",
    "\n",
    "It makes it easier to interpept the difference from the two data set in the visualization."
   ]
  }
 ],
 "metadata": {
  "kernelspec": {
   "display_name": "Python 2",
   "language": "python",
   "name": "python2"
  },
  "language_info": {
   "codemirror_mode": {
    "name": "ipython",
    "version": 2
   },
   "file_extension": ".py",
   "mimetype": "text/x-python",
   "name": "python",
   "nbconvert_exporter": "python",
   "pygments_lexer": "ipython2",
   "version": "2.7.11"
  }
 },
 "nbformat": 4,
 "nbformat_minor": 0
}
