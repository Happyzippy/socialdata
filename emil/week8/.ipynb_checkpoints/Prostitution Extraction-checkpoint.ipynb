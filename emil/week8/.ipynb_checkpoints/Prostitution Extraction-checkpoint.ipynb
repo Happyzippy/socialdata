{
 "cells": [
  {
   "cell_type": "code",
   "execution_count": 82,
   "metadata": {
    "collapsed": true
   },
   "outputs": [],
   "source": [
    "# Imports\n",
    "import numpy as np\n",
    "import pandas as pd\n",
    "from sklearn import tree\n",
    "from sklearn import cluster\n",
    "from collections import Counter\n",
    "from matplotlib import pyplot as plt\n",
    "import json\n",
    "%matplotlib inline\n",
    "from __future__ import division\n",
    "import random"
   ]
  },
  {
   "cell_type": "code",
   "execution_count": 4,
   "metadata": {
    "collapsed": false
   },
   "outputs": [],
   "source": [
    "# Load data\n",
    "df = pd.read_csv('../../data/SFPD_Incidents_-_from_1_January_2003.csv', sep=',')"
   ]
  },
  {
   "cell_type": "code",
   "execution_count": 111,
   "metadata": {
    "collapsed": false
   },
   "outputs": [],
   "source": [
    "X = df.loc[mask][['X','Y']]\n",
    "centers = {}\n",
    "for clusters in [2,3,4,5,6]:\n",
    "    mdl = cluster.KMeans(n_clusters=clusters).fit(X[['X','Y']])\n",
    "    Y = mdl.transform(X[['X','Y']])\n",
    "    X['k%i'%clusters] = pd.DataFrame(np.argmin(Y,axis=1)).set_index(X.index)\n",
    "    centers['k%i'%clusters] = [{'lon':ctx[0], 'lat':ctx[1]} for ctx in mdl.cluster_centers_]\n",
    "X.to_csv(\"prostitution_coordinates.csv\", index=False)"
   ]
  },
  {
   "cell_type": "code",
   "execution_count": 112,
   "metadata": {
    "collapsed": false
   },
   "outputs": [],
   "source": [
    "with open('prostitution_centroids.json', 'w') as outfile:\n",
    "    json.dump(centers, outfile)"
   ]
  },
  {
   "cell_type": "code",
   "execution_count": 102,
   "metadata": {
    "collapsed": false
   },
   "outputs": [
    {
     "data": {
      "text/plain": [
       "[{'lat': 37.760590117280024, 'lon': 37.760590117280024},\n",
       " {'lat': 37.787402926392026, 'lon': 37.787402926392026}]"
      ]
     },
     "execution_count": 102,
     "metadata": {},
     "output_type": "execute_result"
    }
   ],
   "source": []
  },
  {
   "cell_type": "code",
   "execution_count": null,
   "metadata": {
    "collapsed": true
   },
   "outputs": [],
   "source": []
  },
  {
   "cell_type": "code",
   "execution_count": 10,
   "metadata": {
    "collapsed": false
   },
   "outputs": [],
   "source": [
    "mask = (df.Y != 90) & (df.Category == 'PROSTITUTION')\n",
    "df.loc[mask][['X','Y']].to_csv('prostitution_coordinates.csv')"
   ]
  }
 ],
 "metadata": {
  "kernelspec": {
   "display_name": "Python 2",
   "language": "python",
   "name": "python2"
  },
  "language_info": {
   "codemirror_mode": {
    "name": "ipython",
    "version": 2
   },
   "file_extension": ".py",
   "mimetype": "text/x-python",
   "name": "python",
   "nbconvert_exporter": "python",
   "pygments_lexer": "ipython2",
   "version": "2.7.11"
  }
 },
 "nbformat": 4,
 "nbformat_minor": 0
}
