{
 "cells": [
  {
   "cell_type": "markdown",
   "metadata": {},
   "source": [
    "# Week 2\n"
   ]
  },
  {
   "cell_type": "markdown",
   "metadata": {},
   "source": [
    "# Chapter 5 statistics\n",
    "\n",
    "* Mean and median  \n",
    "Two centrality estimators\n",
    "the mean estimates the mean value of the set\n",
    "The median is the middle element (50 percentile)\n",
    "\n",
    "* Variance  \n",
    "Variance expresses dispersion of data\n",
    "\n",
    "* Simpsons paradox  \n",
    "in which a trend appears in different groups of data but disappears or reverses when these groups are combined. It is sometimes given the impersonal title reversal paradox or amalgamation paradox.  \n",
    "Often seen in social sciences\n",
    "\n",
    "* Correlation and causation  \n",
    "Correlation does not imply causation, but the opposite is often true.\n"
   ]
  },
  {
   "cell_type": "markdown",
   "metadata": {},
   "source": [
    "## Get data"
   ]
  },
  {
   "cell_type": "code",
   "execution_count": 106,
   "metadata": {
    "collapsed": true
   },
   "outputs": [],
   "source": [
    "import urllib2\n",
    "import numpy as np\n",
    "\n",
    "def read_float_tsv(data):\n",
    "    t = [];\n",
    "    for line in data.split(\"\\n\"):\n",
    "        t.append([float(x) for x in line.split(\"\\t\")])\n",
    "    return t\n",
    "\n",
    "response = urllib2.urlopen(\"https://dl.dropboxusercontent.com/u/153071/teaching/02806_2016/data1.tsv\")\n",
    "data1 = np.array(read_float_tsv(response.read()))\n",
    "response = urllib2.urlopen(\"https://dl.dropboxusercontent.com/u/153071/teaching/02806_2016/data2.tsv\")\n",
    "data2 = np.array(read_float_tsv(response.read()))\n",
    "response = urllib2.urlopen(\"https://dl.dropboxusercontent.com/u/153071/teaching/02806_2016/data3.tsv\")\n",
    "data3 = np.array(read_float_tsv(response.read()))\n",
    "response = urllib2.urlopen(\"https://dl.dropboxusercontent.com/u/153071/teaching/02806_2016/data4.tsv\")\n",
    "data4 = np.array(read_float_tsv(response.read()))\n"
   ]
  },
  {
   "cell_type": "markdown",
   "metadata": {},
   "source": [
    "### Calculating means"
   ]
  },
  {
   "cell_type": "code",
   "execution_count": 93,
   "metadata": {
    "collapsed": false
   },
   "outputs": [
    {
     "name": "stdout",
     "output_type": "stream",
     "text": [
      "Mean of data1 columns 1\n",
      "7.50090909091\n"
     ]
    }
   ],
   "source": [
    "print \"Mean of data1 columns 1\"\n",
    "print np.mean(data1[:,1])"
   ]
  },
  {
   "cell_type": "code",
   "execution_count": 123,
   "metadata": {
    "collapsed": false
   },
   "outputs": [
    {
     "name": "stdout",
     "output_type": "stream",
     "text": [
      "mean of columns in data 2\n",
      "9.00\n",
      "7.50\n"
     ]
    }
   ],
   "source": [
    "print \"mean of columns in data 2\"\n",
    "for i in range(0,2):\n",
    "    print \"{:3.2f}\".format(np.mean(data2[:,i]))"
   ]
  },
  {
   "cell_type": "markdown",
   "metadata": {},
   "source": [
    "### plotting"
   ]
  },
  {
   "cell_type": "code",
   "execution_count": 147,
   "metadata": {
    "collapsed": false
   },
   "outputs": [
    {
     "data": {
      "image/png": "[encoded data removed]",
      "text/plain": [
       "<matplotlib.figure.Figure at 0x7f247a0dba90>"
      ]
     },
     "metadata": {},
     "output_type": "display_data"
    }
   ],
   "source": [
    "%matplotlib inline\n",
    "from matplotlib import pyplot as plt\n",
    "\n",
    "\n",
    "plt.scatter(data1[:,0],data1[:,1], color='green')\n",
    "plt.title(\"Data\")\n",
    "\n",
    "#plt.hold()\n",
    "plt.scatter(data2[:,0],data2[:,1], color='blue')\n",
    "plt.scatter(data3[:,0],data3[:,1], color='red')\n",
    "plt.scatter(data4[:,0],data4[:,1], color='purple')\n",
    "plt.legend([\"Data1\", \"Data2\", \"Data3\", \"Data4\"])\n",
    "plt.show()"
   ]
  },
  {
   "cell_type": "markdown",
   "metadata": {},
   "source": [
    "#### Calculate variance of dataset columns"
   ]
  },
  {
   "cell_type": "code",
   "execution_count": 138,
   "metadata": {
    "collapsed": false
   },
   "outputs": [
    {
     "name": "stdout",
     "output_type": "stream",
     "text": [
      "['10.000', '3.752']\n",
      "['10.000', '3.752']\n",
      "['10.000', '3.748']\n",
      "['10.000', '3.748']\n"
     ]
    }
   ],
   "source": [
    "\n",
    "print [\"{:3.3f}\".format(x) for x in np.var(data1, axis=0)]\n",
    "print [\"{:3.3f}\".format(x) for x in np.var(data2, axis=0)]\n",
    "print [\"{:3.3f}\".format(x) for x in np.var(data3, axis=0)]\n",
    "print [\"{:3.3f}\".format(x) for x in np.var(data4, axis=0)]"
   ]
  },
  {
   "cell_type": "code",
   "execution_count": 145,
   "metadata": {
    "collapsed": false
   },
   "outputs": [
    {
     "name": "stdout",
     "output_type": "stream",
     "text": [
      "[ 10.   8.  13.   9.  11.  14.   6.   4.  12.   7.   5.]\n",
      "[ 10.   8.  13.   9.  11.  14.   6.   4.  12.   7.   5.]\n",
      "[ 10.   8.  13.   9.  11.  14.   6.   4.  12.   7.   5.]\n",
      "[  8.   8.   8.   8.   8.   8.   8.  19.   8.   8.   8.]\n"
     ]
    }
   ],
   "source": [
    "print data1[:,0]\n",
    "print data2[:,0]\n",
    "print data3[:,0]\n",
    "print data4[:,0]"
   ]
  },
  {
   "cell_type": "code",
   "execution_count": 164,
   "metadata": {
    "collapsed": false
   },
   "outputs": [
    {
     "name": "stdout",
     "output_type": "stream",
     "text": [
      "correlation coeff between data1 and data1\n",
      "1.0\n",
      "correlation coeff between data1 and data2\n",
      "0.750005396958\n",
      "correlation coeff between data1 and data3\n",
      "0.468716678659\n",
      "correlation coeff between data1 and data4\n",
      "-0.489116223766\n",
      "correlation coeff between data2 and data1\n",
      "0.750005396958\n",
      "correlation coeff between data2 and data2\n",
      "1.0\n",
      "correlation coeff between data2 and data3\n",
      "0.587919327108\n",
      "correlation coeff between data2 and data4\n",
      "-0.478094850884\n",
      "correlation coeff between data3 and data1\n",
      "0.468716678659\n",
      "correlation coeff between data3 and data2\n",
      "0.587919327108\n",
      "correlation coeff between data3 and data3\n",
      "1.0\n",
      "correlation coeff between data3 and data4\n",
      "-0.155471787097\n",
      "correlation coeff between data4 and data1\n",
      "-0.489116223766\n",
      "correlation coeff between data4 and data2\n",
      "-0.478094850884\n",
      "correlation coeff between data4 and data3\n",
      "-0.155471787097\n",
      "correlation coeff between data4 and data4\n",
      "1.0\n"
     ]
    }
   ],
   "source": [
    "nx = 1\n",
    "ny = 1\n",
    "for x in [data1, data2, data3, data4]:\n",
    "    for y in [data1, data2, data3, data4]:\n",
    "        print \"correlation coeff between data%s and data%s\" % (nx, ny) \n",
    "        print np.corrcoef(x[:,1], y[:,1])[0, 1]\n",
    "        ny += 1\n",
    "    ny = 1\n",
    "    nx += 1"
   ]
  },
  {
   "cell_type": "code",
   "execution_count": 189,
   "metadata": {
    "collapsed": false
   },
   "outputs": [
    {
     "data": {
      "image/png": "[encoded data removed]",
      "text/plain": [
       "<matplotlib.figure.Figure at 0x7f2473508090>"
      ]
     },
     "metadata": {},
     "output_type": "display_data"
    }
   ],
   "source": [
    "from scipy import stats\n",
    "nx = 1\n",
    "for data in [data1, data2, data3, data4]:\n",
    "    slope, intercept, r_value, p_value, std_err = stats.linregress(data[:,0],data[:,1])\n",
    "    #print [slope, intercept, r_value, p_value, std_err]\n",
    "    plt.subplot(2,2,nx)\n",
    "    plt.scatter(data[:,0], data[:,1])\n",
    "    plt.plot(np.sort(data[:,0]), [slope*x + intercept for x in np.sort(data[:,0])])\n",
    "    plt.title(\"Data%i\" % nx)\n",
    "    nx += 1"
   ]
  },
  {
   "cell_type": "markdown",
   "metadata": {},
   "source": [
    "Purpose was to get familiar with numpy, and learn to plot first, to show what data we are working with"
   ]
  },
  {
   "cell_type": "markdown",
   "metadata": {},
   "source": [
    "# Chapter 6 - Statistics"
   ]
  },
  {
   "cell_type": "code",
   "execution_count": 190,
   "metadata": {
    "collapsed": false
   },
   "outputs": [
    {
     "name": "stdout",
     "output_type": "stream",
     "text": [
      "P(both | older): 0.514228456914\n",
      "P(both | either):  0.341541328364\n"
     ]
    }
   ],
   "source": [
    "import random\n",
    "from __future__ import division\n",
    "\n",
    "def random_kid():\n",
    "    return random.choice([\"boy\", \"girl\"])\n",
    "\n",
    "both_girls = 0\n",
    "older_girl = 0\n",
    "either_girl = 0\n",
    "\n",
    "random.seed(0)\n",
    "for _ in range(10000):\n",
    "    younger = random_kid() \n",
    "    older = random_kid() \n",
    "    \n",
    "    if older == \"girl\":\n",
    "        older_girl += 1\n",
    "    if older == \"girl\" and younger == \"girl\":\n",
    "        both_girls += 1\n",
    "    if older == \"girl\" or younger == \"girl\":\n",
    "        either_girl += 1\n",
    "\n",
    "print \"P(both | older):\", both_girls / older_girl # 0.514 ~ 1/2 \n",
    "print \"P(both | either): \", both_girls / either_girl # 0.342 ~ 1/3"
   ]
  },
  {
   "cell_type": "code",
   "execution_count": 284,
   "metadata": {
    "collapsed": false
   },
   "outputs": [
    {
     "name": "stdout",
     "output_type": "stream",
     "text": [
      "P(three_girls): 0.1249\n",
      "P(two_girls): 0.3782\n",
      "P(one_girls): 0.3771\n",
      "P(zero_girls): 0.1198\n",
      "P(All_girls | oldest is a girl): 0.248359514814\n",
      "P(All_girls | any is a girl): 0.14189956828\n"
     ]
    }
   ],
   "source": [
    "def random_kid():\n",
    "    return random.choice([\"boy\", \"girl\"])\n",
    "simulations = 10000\n",
    "\n",
    "girls = [0,0,0,0]\n",
    "older_girl = 0\n",
    "\n",
    "random.seed(0)\n",
    "for _ in range(simulations):\n",
    "    kids = [random_kid(), random_kid(), random_kid()]\n",
    "    #print kids\n",
    "    n =  sum(kid == \"girl\" for kid in kids)\n",
    "    girls[n] += 1\n",
    "    \n",
    "    if kids[1] == \"girl\":\n",
    "        older_girl += 1\n",
    "    \n",
    "print \"P(three_girls):\", girls[3] / simulations # 0.125 ~ 1 chance in 2^3 \n",
    "print \"P(two_girls):\", girls[2] / simulations # 0.375 ~ 3/2^8\n",
    "print \"P(one_girls):\", girls[1] / simulations # 0.375 ~ 3/2^8\n",
    "print \"P(zero_girls):\", girls[0] / simulations # 0.125 ~ 1/2^3 \n",
    "print \"P(All_girls | oldest is a girl):\", girls[3] / older_girl # 0.25 ~ intersection all_girls and oldest is girl = 0.125 / oldest is a girl = 0.5  \n",
    "print \"P(All_girls | any is a girl):\", girls[3] / sum(girls[1:4]) # 0.1429 ~ intersection all_girls and any is girl = 0.125/ any is girl 7/2^3\n",
    "#print \"P(both | either): \", both_girls / either_girl # 0.342 ~ 1/3"
   ]
  },
  {
   "cell_type": "markdown",
   "metadata": {},
   "source": [
    "Conditional probability\n",
    "$$P(A|B) = \\frac{P\\left(A \\bigcap B\\right)}{P(B)}$$"
   ]
  },
  {
   "cell_type": "markdown",
   "metadata": {},
   "source": [
    "## Central limit theorem"
   ]
  },
  {
   "cell_type": "code",
   "execution_count": 324,
   "metadata": {
    "collapsed": false
   },
   "outputs": [
    {
     "ename": "TypeError",
     "evalue": "'module' object is not callable",
     "output_type": "error",
     "traceback": [
      "\u001b[1;31m---------------------------------------------------------------------------\u001b[0m",
      "\u001b[1;31mTypeError\u001b[0m                                 Traceback (most recent call last)",
      "\u001b[1;32m<ipython-input-324-d66d724f77be>\u001b[0m in \u001b[0;36m<module>\u001b[1;34m()\u001b[0m\n\u001b[1;32m----> 1\u001b[1;33m \u001b[0mrandom\u001b[0m\u001b[1;33m(\u001b[0m\u001b[1;36m10\u001b[0m\u001b[1;33m)\u001b[0m\u001b[1;33m\u001b[0m\u001b[0m\n\u001b[0m",
      "\u001b[1;31mTypeError\u001b[0m: 'module' object is not callable"
     ]
    }
   ],
   "source": [
    "random(10)"
   ]
  },
  {
   "cell_type": "code",
   "execution_count": 362,
   "metadata": {
    "collapsed": false
   },
   "outputs": [
    {
     "data": {
      "text/plain": [
       "([<matplotlib.axis.XTick at 0x7f24737b1190>,\n",
       "  <matplotlib.axis.XTick at 0x7f2473b2e890>,\n",
       "  <matplotlib.axis.XTick at 0x7f2473d29210>,\n",
       "  <matplotlib.axis.XTick at 0x7f2473e26710>,\n",
       "  <matplotlib.axis.XTick at 0x7f2473e02250>,\n",
       "  <matplotlib.axis.XTick at 0x7f24740001d0>],\n",
       " <a list of 6 Text xticklabel objects>)"
      ]
     },
     "execution_count": 362,
     "metadata": {},
     "output_type": "execute_result"
    },
    {
     "data": {
      "image/png": "[encoded data removed]",
      "text/plain": [
       "<matplotlib.figure.Figure at 0x7f24732eedd0>"
      ]
     },
     "metadata": {},
     "output_type": "display_data"
    }
   ],
   "source": [
    "from collections import Counter\n",
    "# Roll a dice\n",
    "def dicesim(rolls):\n",
    "    for x in range(rolls):\n",
    "        yield random.randint(1,6)\n",
    "\n",
    "bin, value = zip(*Counter(dicesim(100000)).items())\n",
    "indexes = np.arange(len(bin))\n",
    "plt.bar(bin,value,1)\n",
    "plt.xticks(indexes + 1.5, bin)"
   ]
  },
  {
   "cell_type": "markdown",
   "metadata": {},
   "source": [
    "Its a **Uniformly** distributed :)\n",
    "\n",
    "Next the average of 10 dice is **Normal distributed** as per the centrality theorem"
   ]
  },
  {
   "cell_type": "code",
   "execution_count": 455,
   "metadata": {
    "collapsed": false
   },
   "outputs": [
    {
     "data": {
      "text/plain": [
       "(array([   137.,   1376.,   6744.,  17781.,  27603.,  25935.,  14659.,\n",
       "          4811.,    882.,     72.]),\n",
       " array([ 1.5 ,  1.91,  2.32,  2.73,  3.14,  3.55,  3.96,  4.37,  4.78,\n",
       "         5.19,  5.6 ]),\n",
       " <a list of 10 Patch objects>)"
      ]
     },
     "execution_count": 455,
     "metadata": {},
     "output_type": "execute_result"
    },
    {
     "data": {
      "image/png": "[encoded data removed]",
      "text/plain": [
       "<matplotlib.figure.Figure at 0x7f2472de8d90>"
      ]
     },
     "metadata": {},
     "output_type": "display_data"
    }
   ],
   "source": [
    "plt.hist([sum(dicesim(10))/10.0 for i in range(100000)])"
   ]
  },
  {
   "cell_type": "code",
   "execution_count": 449,
   "metadata": {
    "collapsed": false
   },
   "outputs": [
    {
     "data": {
      "text/plain": [
       "(array([1, 0, 0, 2, 2, 1, 2, 0, 0, 2]),\n",
       " array([ 3.  ,  3.16,  3.32,  3.48,  3.64,  3.8 ,  3.96,  4.12,  4.28,\n",
       "         4.44,  4.6 ]))"
      ]
     },
     "execution_count": 449,
     "metadata": {},
     "output_type": "execute_result"
    }
   ],
   "source": [
    "hist"
   ]
  },
  {
   "cell_type": "code",
   "execution_count": null,
   "metadata": {
    "collapsed": true
   },
   "outputs": [],
   "source": [
    "sims = 1000\n",
    "buf = np.zeros(6)\n",
    "for i in range(1000):\n",
    "    d = Counter(dicesim(10))\n",
    "    for i in d.keys():\n",
    "        buf[i-1] = buf[i-1] + d[i]\n",
    "average = np.array([x/float(sims) for x in buf])\n",
    "plt.bar(range(1,7),average,1)"
   ]
  }
 ],
 "metadata": {
  "kernelspec": {
   "display_name": "Python 2",
   "language": "python",
   "name": "python2"
  },
  "language_info": {
   "codemirror_mode": {
    "name": "ipython",
    "version": 2
   },
   "file_extension": ".py",
   "mimetype": "text/x-python",
   "name": "python",
   "nbconvert_exporter": "python",
   "pygments_lexer": "ipython2",
   "version": "2.7.11"
  }
 },
 "nbformat": 4,
 "nbformat_minor": 0
}
